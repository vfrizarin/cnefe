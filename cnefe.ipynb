{
 "cells": [
  {
   "cell_type": "code",
   "execution_count": 2,
   "metadata": {},
   "outputs": [],
   "source": [
    "import pandas as pd\n",
    "import numpy as np\n",
    "import os\n",
    "from bs4 import BeautifulSoup\n",
    "import requests\n",
    "from io import BytesIO\n",
    "from urllib.request import urlopen\n",
    "from zipfile import ZipFile\n",
    "from tqdm import tqdm\n",
    "import shutil\n",
    "from simpledbf import Dbf5"
   ]
  },
  {
   "cell_type": "code",
   "execution_count": 3,
   "metadata": {},
   "outputs": [],
   "source": [
    "pd.set_option('display.max_columns', None)\n",
    "pd.set_option('display.max_rows', None)"
   ]
  },
  {
   "cell_type": "code",
   "execution_count": 9,
   "metadata": {},
   "outputs": [],
   "source": [
    "ufs = ['AC', 'AL', 'AM', 'AP', 'BA', 'CE', 'DF', 'ES', 'GO', \n",
    "       'MA', 'MG', 'MS', 'MT', 'PA', 'PB', 'PE', 'PI', 'PR', \n",
    "       'RJ', 'RN', 'RO', 'RR', 'RS', 'SC', 'SE', 'SP', 'TO']"
   ]
  },
  {
   "cell_type": "code",
   "execution_count": 10,
   "metadata": {},
   "outputs": [],
   "source": [
    "cwd = 'C:/Users/jose_/OneDrive/Área de Trabalho/workspace/CNEFE'"
   ]
  },
  {
   "cell_type": "code",
   "execution_count": 11,
   "metadata": {},
   "outputs": [],
   "source": [
    "cols = [\n",
    "    'NM_MUN',\n",
    "    'SIGLA_UF',\n",
    "    'AREA_KM2',\n",
    "    'CD_UF',\n",
    "    'CD_MUNICIPIO',\n",
    "    'CD_DISTRITO',\n",
    "    'CD_SUBDISTRITO',\n",
    "    'CD_SETOR',\n",
    "    'SITUACAO_SETOR',\n",
    "    'CEP'\n",
    "]"
   ]
  },
  {
   "cell_type": "code",
   "execution_count": 12,
   "metadata": {},
   "outputs": [],
   "source": [
    "def scraping_cnefe(save_unzip, ufs):\n",
    "    \"\"\"\n",
    "    Coleta os dados do repositório Cadastro Nacional de Endereços para Fins Estatísticos (CNEFE) mantido pelo IBGE.\n",
    "    \n",
    "    Parameters\n",
    "    ----------\n",
    "        save_unzip: str\n",
    "            Diretório em que serão salvos os arquivos descompactados\n",
    "        ufs: list\n",
    "            Siglas das UFs que serão coletadas\n",
    "            \n",
    "    Returns\n",
    "    -------\n",
    "        Pandas DataFrame depara de códido do setor censitário para CEP.\n",
    "\n",
    "    \"\"\"\n",
    "    url = 'https://ftp.ibge.gov.br/Censos/Censo_Demografico_2010/Cadastro_Nacional_de_Enderecos_Fins_Estatisticos'\n",
    "    setores = pd.DataFrame()\n",
    "\n",
    "    for i in tqdm(ufs):\n",
    "        path = os.path.join(url, i).replace('\\\\','/')\n",
    "        page = requests.get(path).text\n",
    "        soup = BeautifulSoup(page, 'html.parser')\n",
    "        files = [os.path.join(path, node.get('href')).replace('\\\\','/') for node in soup.find_all('a') if node.get('href').endswith('.zip')]\n",
    "        files = files[1:]\n",
    "\n",
    "        tables = [node.get('href') for node in soup.find_all('a') if node.get('href').endswith('.zip')][1:]\n",
    "        tables = [value.replace('.zip', '.TXT') for value in tables]\n",
    "\n",
    "        for j in range(len(files)):\n",
    "            \n",
    "            zipurl = files[j]\n",
    "            with urlopen(zipurl) as zipresp:\n",
    "                with ZipFile(BytesIO(zipresp.read())) as zfile:\n",
    "                    zfile.extractall(os.path.join(save_unzip, i).replace('\\\\','/'))\n",
    "        \n",
    "            try:\n",
    "                df = pd.read_csv(os.path.join(save_unzip, i, tables[j]).replace('\\\\','/'), header=None, names=['VARIAVEL'])\n",
    "            except UnicodeDecodeError:\n",
    "                df = pd.read_csv(os.path.join(save_unzip, i, tables[j]).replace('\\\\','/'), header=None, names=['VARIAVEL'], encoding='ANSI')\n",
    "            except:\n",
    "                print('Não foi possível carregar a tabela')\n",
    "\n",
    "            df['CODIGO'] = (df.VARIAVEL.str[:16]).str.replace(' ', '0')\n",
    "            df['CD_UF'] = df.CODIGO.str[:2]\n",
    "            df['CD_MUNICIPIO'] = df.CODIGO.str[:7]\n",
    "            df['CD_DISTRITO'] = df.CODIGO.str[:9]\n",
    "            df['CD_SUBDISTRITO'] = df.CODIGO.str[:11]\n",
    "            df['CD_SETOR'] = df.CODIGO.str[:15]\n",
    "            df['CD_SITUACAO_SETOR'] = df.CODIGO.str[15:16]\n",
    "            df['SITUACAO_SETOR'] = np.where(df.CD_SITUACAO_SETOR == '1', 'URBANO', 'RURAL')\n",
    "            df['CEP'] = (df.VARIAVEL.str[550:]).str.replace(' ', '0')\n",
    "\n",
    "            df.drop(['VARIAVEL','CODIGO', 'CD_SITUACAO_SETOR'], axis=1, inplace=True)\n",
    "            df.drop_duplicates(inplace=True)   \n",
    "            setores = pd.concat([setores, df], ignore_index=True)\n",
    "            \n",
    "        #Deleta a pasta da UF\n",
    "        #shutil.rmtree(os.path.join(save_unzip).replace('\\\\','/'), ignore_errors=True)\n",
    "        \n",
    "    return setores"
   ]
  },
  {
   "cell_type": "code",
   "execution_count": 13,
   "metadata": {},
   "outputs": [
    {
     "name": "stderr",
     "output_type": "stream",
     "text": [
      "100%|██████████| 27/27 [1:14:44<00:00, 166.09s/it]\n"
     ]
    }
   ],
   "source": [
    "df = scraping_cnefe(cwd, ufs)"
   ]
  },
  {
   "cell_type": "code",
   "execution_count": 37,
   "metadata": {},
   "outputs": [
    {
     "data": {
      "text/html": [
       "<div>\n",
       "<style scoped>\n",
       "    .dataframe tbody tr th:only-of-type {\n",
       "        vertical-align: middle;\n",
       "    }\n",
       "\n",
       "    .dataframe tbody tr th {\n",
       "        vertical-align: top;\n",
       "    }\n",
       "\n",
       "    .dataframe thead th {\n",
       "        text-align: right;\n",
       "    }\n",
       "</style>\n",
       "<table border=\"1\" class=\"dataframe\">\n",
       "  <thead>\n",
       "    <tr style=\"text-align: right;\">\n",
       "      <th></th>\n",
       "      <th>CD_UF</th>\n",
       "      <th>CD_MUNICIPIO</th>\n",
       "      <th>CD_DISTRITO</th>\n",
       "      <th>CD_SUBDISTRITO</th>\n",
       "      <th>CD_SETOR</th>\n",
       "      <th>SITUACAO_SETOR</th>\n",
       "      <th>CEP</th>\n",
       "    </tr>\n",
       "  </thead>\n",
       "  <tbody>\n",
       "    <tr>\n",
       "      <th>0</th>\n",
       "      <td>12</td>\n",
       "      <td>1200013</td>\n",
       "      <td>120001305</td>\n",
       "      <td>12000130500</td>\n",
       "      <td>120001305000001</td>\n",
       "      <td>URBANO</td>\n",
       "      <td>69945000</td>\n",
       "    </tr>\n",
       "    <tr>\n",
       "      <th>1</th>\n",
       "      <td>12</td>\n",
       "      <td>1200013</td>\n",
       "      <td>120001305</td>\n",
       "      <td>12000130500</td>\n",
       "      <td>120001305000002</td>\n",
       "      <td>URBANO</td>\n",
       "      <td>69945000</td>\n",
       "    </tr>\n",
       "    <tr>\n",
       "      <th>2</th>\n",
       "      <td>12</td>\n",
       "      <td>1200013</td>\n",
       "      <td>120001305</td>\n",
       "      <td>12000130500</td>\n",
       "      <td>120001305000003</td>\n",
       "      <td>URBANO</td>\n",
       "      <td>69945000</td>\n",
       "    </tr>\n",
       "    <tr>\n",
       "      <th>3</th>\n",
       "      <td>12</td>\n",
       "      <td>1200013</td>\n",
       "      <td>120001305</td>\n",
       "      <td>12000130500</td>\n",
       "      <td>120001305000004</td>\n",
       "      <td>RURAL</td>\n",
       "      <td>69945000</td>\n",
       "    </tr>\n",
       "    <tr>\n",
       "      <th>4</th>\n",
       "      <td>12</td>\n",
       "      <td>1200013</td>\n",
       "      <td>120001305</td>\n",
       "      <td>12000130500</td>\n",
       "      <td>120001305000005</td>\n",
       "      <td>RURAL</td>\n",
       "      <td>69945000</td>\n",
       "    </tr>\n",
       "  </tbody>\n",
       "</table>\n",
       "</div>"
      ],
      "text/plain": [
       "  CD_UF CD_MUNICIPIO CD_DISTRITO CD_SUBDISTRITO         CD_SETOR  \\\n",
       "0    12      1200013   120001305    12000130500  120001305000001   \n",
       "1    12      1200013   120001305    12000130500  120001305000002   \n",
       "2    12      1200013   120001305    12000130500  120001305000003   \n",
       "3    12      1200013   120001305    12000130500  120001305000004   \n",
       "4    12      1200013   120001305    12000130500  120001305000005   \n",
       "\n",
       "  SITUACAO_SETOR       CEP  \n",
       "0         URBANO  69945000  \n",
       "1         URBANO  69945000  \n",
       "2         URBANO  69945000  \n",
       "3          RURAL  69945000  \n",
       "4          RURAL  69945000  "
      ]
     },
     "execution_count": 37,
     "metadata": {},
     "output_type": "execute_result"
    }
   ],
   "source": [
    "df.head(5)"
   ]
  },
  {
   "cell_type": "code",
   "execution_count": 30,
   "metadata": {},
   "outputs": [
    {
     "data": {
      "text/plain": [
       "(1269844, 8)"
      ]
     },
     "execution_count": 30,
     "metadata": {},
     "output_type": "execute_result"
    }
   ],
   "source": [
    "df.shape"
   ]
  },
  {
   "cell_type": "code",
   "execution_count": 42,
   "metadata": {},
   "outputs": [
    {
     "data": {
      "text/plain": [
       "(541905, 7)"
      ]
     },
     "execution_count": 42,
     "metadata": {},
     "output_type": "execute_result"
    }
   ],
   "source": [
    "df.drop_duplicates(subset=['CEP']).shape"
   ]
  },
  {
   "cell_type": "code",
   "execution_count": 18,
   "metadata": {},
   "outputs": [],
   "source": [
    "# Download em ftp://geoftp.ibge.gov.br/organizacao_do_territorio/malhas_territoriais/malhas_municipais/municipio_2019/Brasil/BR/br_municipios_20200807.zip\n",
    "dbf = Dbf5('BR_Municipios_2019.dbf')"
   ]
  },
  {
   "cell_type": "code",
   "execution_count": 19,
   "metadata": {},
   "outputs": [],
   "source": [
    "malha_mun = dbf.to_dataframe()\n",
    "malha_mun.rename(columns={'CD_MUN':'CD_MUNICIPIO'}, inplace=True)"
   ]
  },
  {
   "cell_type": "code",
   "execution_count": 20,
   "metadata": {},
   "outputs": [
    {
     "data": {
      "text/plain": [
       "(5572, 4)"
      ]
     },
     "execution_count": 20,
     "metadata": {},
     "output_type": "execute_result"
    }
   ],
   "source": [
    "malha_mun.shape"
   ]
  },
  {
   "cell_type": "code",
   "execution_count": 21,
   "metadata": {},
   "outputs": [
    {
     "data": {
      "text/html": [
       "<div>\n",
       "<style scoped>\n",
       "    .dataframe tbody tr th:only-of-type {\n",
       "        vertical-align: middle;\n",
       "    }\n",
       "\n",
       "    .dataframe tbody tr th {\n",
       "        vertical-align: top;\n",
       "    }\n",
       "\n",
       "    .dataframe thead th {\n",
       "        text-align: right;\n",
       "    }\n",
       "</style>\n",
       "<table border=\"1\" class=\"dataframe\">\n",
       "  <thead>\n",
       "    <tr style=\"text-align: right;\">\n",
       "      <th></th>\n",
       "      <th>CD_MUNICIPIO</th>\n",
       "      <th>NM_MUN</th>\n",
       "      <th>SIGLA_UF</th>\n",
       "      <th>AREA_KM2</th>\n",
       "    </tr>\n",
       "  </thead>\n",
       "  <tbody>\n",
       "    <tr>\n",
       "      <th>0</th>\n",
       "      <td>1100015</td>\n",
       "      <td>Alta Floresta D'Oeste</td>\n",
       "      <td>RO</td>\n",
       "      <td>7067.025</td>\n",
       "    </tr>\n",
       "    <tr>\n",
       "      <th>1</th>\n",
       "      <td>1100023</td>\n",
       "      <td>Ariquemes</td>\n",
       "      <td>RO</td>\n",
       "      <td>4426.571</td>\n",
       "    </tr>\n",
       "    <tr>\n",
       "      <th>2</th>\n",
       "      <td>1100031</td>\n",
       "      <td>Cabixi</td>\n",
       "      <td>RO</td>\n",
       "      <td>1314.352</td>\n",
       "    </tr>\n",
       "    <tr>\n",
       "      <th>3</th>\n",
       "      <td>1100049</td>\n",
       "      <td>Cacoal</td>\n",
       "      <td>RO</td>\n",
       "      <td>3792.892</td>\n",
       "    </tr>\n",
       "    <tr>\n",
       "      <th>4</th>\n",
       "      <td>1100056</td>\n",
       "      <td>Cerejeiras</td>\n",
       "      <td>RO</td>\n",
       "      <td>2783.300</td>\n",
       "    </tr>\n",
       "  </tbody>\n",
       "</table>\n",
       "</div>"
      ],
      "text/plain": [
       "  CD_MUNICIPIO                 NM_MUN SIGLA_UF  AREA_KM2\n",
       "0      1100015  Alta Floresta D'Oeste       RO  7067.025\n",
       "1      1100023              Ariquemes       RO  4426.571\n",
       "2      1100031                 Cabixi       RO  1314.352\n",
       "3      1100049                 Cacoal       RO  3792.892\n",
       "4      1100056             Cerejeiras       RO  2783.300"
      ]
     },
     "execution_count": 21,
     "metadata": {},
     "output_type": "execute_result"
    }
   ],
   "source": [
    "malha_mun.head()"
   ]
  },
  {
   "cell_type": "code",
   "execution_count": 22,
   "metadata": {},
   "outputs": [],
   "source": [
    "result = pd.merge(df, malha_mun, how='left', on='CD_MUNICIPIO')"
   ]
  },
  {
   "cell_type": "code",
   "execution_count": 24,
   "metadata": {},
   "outputs": [
    {
     "data": {
      "text/plain": [
       "(1269844, 11)"
      ]
     },
     "execution_count": 24,
     "metadata": {},
     "output_type": "execute_result"
    }
   ],
   "source": [
    "result.shape"
   ]
  },
  {
   "cell_type": "code",
   "execution_count": 25,
   "metadata": {},
   "outputs": [
    {
     "data": {
      "text/plain": [
       "CD_UF                0\n",
       "CD_MUNICIPIO         0\n",
       "CD_DISTRITO          0\n",
       "CD_SUBDISTRITO       0\n",
       "CD_SETOR             0\n",
       "CD_SITUACAO_SETOR    0\n",
       "SITUACAO_SETOR       0\n",
       "CEP                  0\n",
       "NM_MUN               0\n",
       "SIGLA_UF             0\n",
       "AREA_KM2             0\n",
       "dtype: int64"
      ]
     },
     "execution_count": 25,
     "metadata": {},
     "output_type": "execute_result"
    }
   ],
   "source": [
    "result.isnull().sum()"
   ]
  },
  {
   "cell_type": "code",
   "execution_count": 26,
   "metadata": {},
   "outputs": [
    {
     "data": {
      "text/plain": [
       "Index(['NM_MUN', 'SIGLA_UF', 'AREA_KM2', 'CD_UF', 'CD_MUNICIPIO',\n",
       "       'CD_DISTRITO', 'CD_SUBDISTRITO', 'CD_SETOR', 'SITUACAO_SETOR', 'CEP'],\n",
       "      dtype='object')"
      ]
     },
     "execution_count": 26,
     "metadata": {},
     "output_type": "execute_result"
    }
   ],
   "source": [
    "result[cols].columns"
   ]
  },
  {
   "cell_type": "code",
   "execution_count": 58,
   "metadata": {},
   "outputs": [],
   "source": [
    "result.iloc[:500000,][cols].to_csv('./setor_cep_ibge_part1.csv', index=None, encoding='iso-8859-1')"
   ]
  },
  {
   "cell_type": "code",
   "execution_count": 59,
   "metadata": {},
   "outputs": [],
   "source": [
    "result.iloc[500000:,][cols].to_csv('./setor_cep_ibge_part2.csv', index=None, encoding='iso-8859-1')"
   ]
  },
  {
   "cell_type": "code",
   "execution_count": 45,
   "metadata": {},
   "outputs": [],
   "source": [
    "result[cols].to_csv('./depara_setor_cep_ibge.csv', index=None, encoding='iso-8859-1')"
   ]
  }
 ],
 "metadata": {
  "kernelspec": {
   "display_name": "myenv",
   "language": "python",
   "name": "myenv"
  },
  "language_info": {
   "codemirror_mode": {
    "name": "ipython",
    "version": 3
   },
   "file_extension": ".py",
   "mimetype": "text/x-python",
   "name": "python",
   "nbconvert_exporter": "python",
   "pygments_lexer": "ipython3",
   "version": "3.8.6"
  }
 },
 "nbformat": 4,
 "nbformat_minor": 4
}
